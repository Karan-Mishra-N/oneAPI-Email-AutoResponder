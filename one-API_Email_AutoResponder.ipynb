{
  "cells": [
    {
      "cell_type": "code",
      "execution_count": null,
      "metadata": {
        "colab": {
          "base_uri": "https://localhost:8080/"
        },
        "id": "2MZFz59VAaK4",
        "outputId": "92dbb5fc-dcd0-4997-f482-8f537947a3bc"
      },
      "outputs": [],
      "source": [
        "# Import libraries\n",
        "from transformers import AutoModelForSequenceClassification, AutoTokenizer\n",
        "import nltk\n",
        "nltk.download('vader_lexicon')  # Download VADER lexicon for sentiment analysis\n",
        "from nltk.sentiment.vader import SentimentIntensityAnalyzer"
      ]
    },
    {
      "cell_type": "code",
      "execution_count": null,
      "metadata": {
        "colab": {
          "base_uri": "https://localhost:8080/"
        },
        "id": "HXvh4lxaAnS4",
        "outputId": "c01f2526-d074-42e9-e234-78716a7b1a06"
      },
      "outputs": [],
      "source": [
        "# Define model and tokenizer names (DistilBERT for sentiment analysis)\n",
        "model_name = \"distilbert-base-uncased-finetuned-sst-2-english\"\n",
        "tokenizer = AutoTokenizer.from_pretrained(model_name)\n",
        "model = AutoModelForSequenceClassification.from_pretrained(model_name)\n",
        "print(\"Model and tokenizer loaded successfully!\")"
      ]
    },
    {
      "cell_type": "code",
      "execution_count": null,
      "metadata": {
        "id": "gyekcFb9AtHx"
      },
      "outputs": [],
      "source": [
        "import onemkl as mkl\n",
        "\n",
        "def clean_email(text):\n",
        "  text = mkl.tolower(text)  # Convert to lowercase using oneMKL\n",
        "  return text"
      ]
    },
    {
      "cell_type": "code",
      "execution_count": null,
      "metadata": {
        "id": "DR0PSyiRA6P4"
      },
      "outputs": [],
      "source": [
        "# Sentiment analysis using VADER\n",
        "def predict_sentiment_vader(email):\n",
        "  cleaned_email = clean_email(email)\n",
        "  analyzer = SentimentIntensityAnalyzer()\n",
        "  sentiment_scores = analyzer.polarity_scores(cleaned_email)\n",
        "  # Extract sentiment category based on highest compound score\n",
        "  if sentiment_scores['compound'] >= 0.05:\n",
        "    return \"Positive\"\n",
        "  elif sentiment_scores['compound'] <= -0.05:\n",
        "    return \"Negative\"\n",
        "  else:\n",
        "    return \"Neutral\""
      ]
    },
    {
      "cell_type": "code",
      "execution_count": null,
      "metadata": {
        "id": "jIRs6HaVBHNk"
      },
      "outputs": [],
      "source": [
        "# Sentiment analysis using pre-trained model \n",
        "import torch\n",
        "def predict_sentiment_distilbert(email):\n",
        "  # Tokenize the email\n",
        "  tokenized_email = tokenizer(email, padding=\"max_length\", truncation=True)\n",
        "\n",
        "  # Get input IDs and attention mask from the tokenized email\n",
        "  input_id = torch.tensor(tokenized_email[\"input_ids\"], dtype=torch.long)  # Assuming input_ids are integers\n",
        "  attention_mask = torch.tensor(tokenized_email[\"attention_mask\"], dtype=torch.long)  # Assuming attention_mask are integers\n",
        "\n",
        "\n",
        "  # Forward pass through the model\n",
        "  outputs = model(input_id, attention_mask=attention_mask)\n",
        "  # Get the predicted sentiment category (argmax of logits)\n",
        "  predicted_sentiment = torch.argmax(outputs.logits).detach().item()\n",
        "\n",
        "  # Define sentiment labels based on the model's output \n",
        "  sentiment_labels = {0: \"Negative\", 1: \"Neutral\", 2: \"Positive\"}\n",
        "\n",
        "  return sentiment_labels[predicted_sentiment]\n",
        "\n",
        "# Define reply suggestions based on sentiment\n",
        "reply_suggestions = {\n",
        "  \"Negative\": \"I'm sorry to hear about the difficulties that you faced. Is there anything I can do to help resolve this issue?\",\n",
        "  \"Neutral\": \"Thank you for bringing this to my attention.I acknowledge the information you've provided.\",\n",
        "  \"Positive\": \"Thank you for your email and the positive update. I appreciate you keeping me informed.\"\n",
        "}"
      ]
    },
    {
      "cell_type": "code",
      "execution_count": null,
      "metadata": {
        "colab": {
          "base_uri": "https://localhost:8080/"
        },
        "id": "tlUOfl6uBcop",
        "outputId": "d2b1e076-629e-49a9-f9f6-bc592a51e90f"
      },
      "outputs": [],
      "source": [
        "# Test the prediction functions with a sample email\n",
        "sample_email = input(\"Enter the content of your Mail: \")"
      ]
    },
    {
      "cell_type": "code",
      "execution_count": null,
      "metadata": {
        "colab": {
          "base_uri": "https://localhost:8080/"
        },
        "id": "VyN7a4M8CC4k",
        "outputId": "e0b83c9e-d9ce-4ff6-9339-3a5d420c0940"
      },
      "outputs": [],
      "source": [
        "# Sentiment analysis using VADER\n",
        "vader_sentiment = predict_sentiment_vader(sample_email)\n",
        "print(f\"\\nPredicted Sentiment (VADER) for '{sample_email}': {vader_sentiment}\")"
      ]
    },
    {
      "cell_type": "code",
      "execution_count": null,
      "metadata": {
        "colab": {
          "base_uri": "https://localhost:8080/"
        },
        "id": "r1WHYfpvCDDi",
        "outputId": "c1245a1b-6f9c-4617-fad6-3ed0816f36b5"
      },
      "outputs": [],
      "source": [
        "# Sentiment analysis using DistilBERT\n",
        "distilbert_sentiment = predict_sentiment_distilbert(sample_email)\n",
        "print(f\"\\nPredicted Sentiment (DistilBERT) for '{sample_email}': {distilbert_sentiment}\")"
      ]
    },
    {
      "cell_type": "code",
      "execution_count": null,
      "metadata": {
        "colab": {
          "base_uri": "https://localhost:8080/"
        },
        "id": "76k4JTbICDOJ",
        "outputId": "0e5a5fd5-4d7c-4f85-b129-317c07fa4ed8"
      },
      "outputs": [],
      "source": [
        "# Choose the reply suggestion based on the preferred sentiment analysis method\n",
        "# You can choose VADER or DistilBERT based on your needs\n",
        "print(\"1.\",vader_sentiment,\"2.\",distilbert_sentiment)\n",
        "Choice=input(\"Enter your choice: \")\n",
        "if (Choice=='1'):\n",
        "  predicted_sentiment = vader_sentiment  # Or distilbert_sentiment\n",
        "else:\n",
        "  predicted_sentiment = distilbert_sentiment\n",
        "reply_suggestion = reply_suggestions.get(predicted_sentiment)"
      ]
    },
    {
      "cell_type": "code",
      "execution_count": null,
      "metadata": {
        "colab": {
          "base_uri": "https://localhost:8080/"
        },
        "id": "CepbwUc1CNR0",
        "outputId": "373e5233-db60-4663-b168-362ad779baed"
      },
      "outputs": [],
      "source": [
        "print(f\"\\nSuggested Reply: {reply_suggestion}\")"
      ]
    }
  ],
  "metadata": {
    "colab": {
      "provenance": []
    },
    "kernelspec": {
      "display_name": "Python 3",
      "name": "python3"
    },
    "language_info": {
      "name": "python"
    }
  },
  "nbformat": 4,
  "nbformat_minor": 0
}
